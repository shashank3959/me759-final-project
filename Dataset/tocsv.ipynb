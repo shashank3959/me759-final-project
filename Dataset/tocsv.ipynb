{
 "cells": [
  {
   "cell_type": "markdown",
   "metadata": {},
   "source": [
    "## Module Imports"
   ]
  },
  {
   "cell_type": "code",
   "execution_count": 6,
   "metadata": {},
   "outputs": [],
   "source": [
    "import numpy as np\n",
    "import pandas as pd\n",
    "import os\n",
    "import re\n",
    "\n",
    "from sklearn.feature_extraction.text import CountVectorizer\n",
    "from sklearn.linear_model import LogisticRegression\n",
    "from sklearn.metrics import accuracy_score\n",
    "from sklearn.model_selection import train_test_split\n",
    "import scipy.sparse\n",
    "\n",
    "# set seed for reproducible results\n",
    "seed = 42"
   ]
  },
  {
   "cell_type": "markdown",
   "metadata": {},
   "source": [
    "## Read, clean and remove stop words from data"
   ]
  },
  {
   "cell_type": "code",
   "execution_count": 2,
   "metadata": {},
   "outputs": [],
   "source": [
    "reviews_train = []\n",
    "for line in open('./aclImdb/movie_data/full_train.txt', 'r',encoding=\"utf8\"):\n",
    "    \n",
    "    reviews_train.append(line.strip())\n",
    "    \n",
    "reviews_test = []\n",
    "for line in open('./aclImdb/movie_data/full_test.txt', 'r',encoding=\"utf8\"):\n",
    "    \n",
    "    reviews_test.append(line.strip())\n",
    "    \n",
    "target = [1 if i < 12500 else 0 for i in range(25000)]\n",
    "\n",
    "\n",
    "import re\n",
    "\n",
    "REPLACE_NO_SPACE = re.compile(\"(\\.)|(\\;)|(\\:)|(\\!)|(\\?)|(\\,)|(\\\")|(\\()|(\\))|(\\[)|(\\])|(\\d+)\")\n",
    "REPLACE_WITH_SPACE = re.compile(\"(<br\\s*/><br\\s*/>)|(\\-)|(\\/)\")\n",
    "NO_SPACE = \"\"\n",
    "SPACE = \" \"\n",
    "\n",
    "def preprocess_reviews(reviews):\n",
    "    \n",
    "    reviews = [REPLACE_NO_SPACE.sub(NO_SPACE, line.lower()) for line in reviews]\n",
    "    reviews = [REPLACE_WITH_SPACE.sub(SPACE, line) for line in reviews]\n",
    "    \n",
    "    return reviews\n",
    "\n",
    "reviews_train_clean = preprocess_reviews(reviews_train)\n",
    "reviews_test_clean = preprocess_reviews(reviews_test)\n",
    "\n",
    "from nltk.corpus import stopwords\n",
    "from nltk.stem.porter import PorterStemmer\n",
    "stemmer = PorterStemmer()\n",
    "english_stop_words = stopwords.words('english')\n",
    "\n",
    "def remove_stop_words_stemmer(corpus):\n",
    "    removed_stop_words = []\n",
    "    for review in corpus:\n",
    "        removed_stop_words.append(\n",
    "            ' '.join([word for word in review.split() \n",
    "                      if word not in english_stop_words])\n",
    "        )\n",
    "    return [' '.join([stemmer.stem(word) for word in review.split()]) for review in removed_stop_words]\n",
    "\n",
    "cleaned_train = remove_stop_words_stemmer(reviews_train_clean)\n",
    "cleaned_test = remove_stop_words_stemmer(reviews_test_clean)"
   ]
  },
  {
   "cell_type": "markdown",
   "metadata": {},
   "source": [
    "## One-hot representation - Binary word occurence (Bernoulli)"
   ]
  },
  {
   "cell_type": "code",
   "execution_count": null,
   "metadata": {},
   "outputs": [],
   "source": [
    "cv = CountVectorizer(binary=True,max_features=3000)\n",
    "cv.fit(cleaned_train)\n",
    "X = cv.transform(cleaned_train)\n",
    "X_test = cv.transform(cleaned_test)\n",
    "\n",
    "# Test - Validation Split \n",
    "X_train, X_val, y_train, y_val = train_test_split(\n",
    "    X, target, train_size = 0.75, random_state=seed\n",
    ")\n",
    "\n",
    "# Bag of Words: Save to csv (from scipy sparse matrix representation)\n",
    "x = pd.DataFrame.sparse.from_spmatrix(X_val)\n",
    "x.to_csv('X_test_onehot.csv',index=False, header=False)\n",
    "\n",
    "x = pd.DataFrame.sparse.from_spmatrix(X_train)\n",
    "x.to_csv('X_train_onehot.csv',index=False, header=False)\n",
    "\n",
    "y_train_df = pd.DataFrame(data={\"col1\": y_train})\n",
    "y_train_df.to_csv(\"./y_train_onehot.csv\", sep=',',index=False, header=False)\n",
    "\n",
    "y_test_df = pd.DataFrame(data={\"col1\": y_val})\n",
    "y_test_df.to_csv(\"./y_test_onehot.csv\", sep=',',index=False, header=False)"
   ]
  },
  {
   "cell_type": "markdown",
   "metadata": {},
   "source": [
    "## Bag of words representation - Word occurence counts (Multinomial)"
   ]
  },
  {
   "cell_type": "code",
   "execution_count": null,
   "metadata": {},
   "outputs": [],
   "source": [
    "# Binary = False will make sure counts show up\n",
    "cv = CountVectorizer(binary=False, max_features=3000)\n",
    "cv.fit(cleaned_train)\n",
    "X = cv.transform(cleaned_train)\n",
    "X_test = cv.transform(cleaned_test)\n",
    "\n",
    "# Test - Validation Split \n",
    "X_train, X_val, y_train, y_val = train_test_split(\n",
    "    X, target, train_size = 0.75, random_state=seed\n",
    ")\n",
    "\n",
    "# Bag of Words: Save to csv (from scipy sparse matrix representation)\n",
    "x = pd.DataFrame.sparse.from_spmatrix(X_val)\n",
    "x.to_csv('X_test_bow.csv',index=False, header=False)\n",
    "\n",
    "x = pd.DataFrame.sparse.from_spmatrix(X_train)\n",
    "x.to_csv('X_train_bow.csv',index=False, header=False)\n",
    "\n",
    "y_train_df = pd.DataFrame(data={\"col1\": y_train})\n",
    "y_train_df.to_csv(\"./y_train_bow.csv\", sep=',',index=False, header=False)\n",
    "\n",
    "y_test_df = pd.DataFrame(data={\"col1\": y_val})\n",
    "y_test_df.to_csv(\"./y_test_bow.csv\", sep=',',index=False, header=False)"
   ]
  },
  {
   "cell_type": "markdown",
   "metadata": {},
   "source": [
    "## Remove below this"
   ]
  },
  {
   "cell_type": "code",
   "execution_count": null,
   "metadata": {
    "scrolled": true
   },
   "outputs": [],
   "source": [
    "X_train, X_val, y_train, y_val = train_test_split(\n",
    "    X, target, train_size = 0.75, random_state=42\n",
    ")"
   ]
  },
  {
   "cell_type": "markdown",
   "metadata": {},
   "source": [
    "## Bag of Words: Save to csv (from scipy sparse matrix representation)"
   ]
  },
  {
   "cell_type": "code",
   "execution_count": null,
   "metadata": {},
   "outputs": [],
   "source": [
    "import scipy.sparse\n",
    "\n",
    "x = pd.DataFrame.sparse.from_spmatrix(X_val)\n",
    "x.to_csv('X_test_bow.csv',index=False)\n",
    "\n",
    "x = pd.DataFrame.sparse.from_spmatrix(X_train)\n",
    "x.to_csv('X_train_bow.csv',index=False)\n",
    "\n",
    "y_train_df = pd.DataFrame(data={\"col1\": y_train})\n",
    "y_train_df.to_csv(\"./y_train_bow.csv\", sep=',',index=False)\n",
    "\n",
    "y_test_df = pd.DataFrame(data={\"col1\": y_val})\n",
    "y_test_df.to_csv(\"./y_test_bow.csv\", sep=',',index=False)"
   ]
  },
  {
   "cell_type": "markdown",
   "metadata": {},
   "source": []
  }
 ],
 "metadata": {
  "kernelspec": {
   "display_name": "Python 3",
   "language": "python",
   "name": "python3"
  },
  "language_info": {
   "codemirror_mode": {
    "name": "ipython",
    "version": 3
   },
   "file_extension": ".py",
   "mimetype": "text/x-python",
   "name": "python",
   "nbconvert_exporter": "python",
   "pygments_lexer": "ipython3",
   "version": "3.7.6"
  }
 },
 "nbformat": 4,
 "nbformat_minor": 2
}
